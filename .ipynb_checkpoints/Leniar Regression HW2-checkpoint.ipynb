{
 "cells": [
  {
   "cell_type": "code",
   "execution_count": 621,
   "metadata": {
    "collapsed": true
   },
   "outputs": [],
   "source": [
    "import numpy as np\n",
    "\n",
    "syn_input_data = np.loadtxt('./input.csv', delimiter=',');\n",
    "syn_trn_length = int(len(syn_input_data) *0.7);\n",
    "syn_tst_length = int(syn_trn_length + (len(syn_input_data) *0.15));\n",
    "syn_ip_train, syn_ip_test, syn_ip_valid = syn_input_data[:syn_trn_length, :] , syn_input_data[syn_trn_length:syn_tst_length, :] , syn_input_data[syn_tst_length:, :] \n",
    "\n",
    "\n",
    "k_forK_means = 100 ; # Number of Clusters"
   ]
  },
  {
   "cell_type": "code",
   "execution_count": 622,
   "metadata": {
    "collapsed": true
   },
   "outputs": [
    {
     "name": "stdout",
     "output_type": "stream",
     "text": [
      "14000 \n",
      " [ 0.08781844  0.85835835  0.4803016   0.79188975  0.85198218  0.05105807\n",
      "  0.34648184  0.473232    0.08464261  0.26317167]\n",
      "3000 \n",
      " [ 0.17252182  0.39766756  0.92805755  0.22642397  0.03071912  0.49401568\n",
      "  0.73105366  0.32776932  0.63474013  0.42100986]\n",
      "3000 \n",
      " [ 0.24431546  0.60105079  0.51260845  0.52721794  0.6335075   0.51859347\n",
      "  0.99974617  0.99286201  0.19669866  0.95599209]\n"
     ]
    }
   ],
   "source": [
    "print(len(syn_ip_train),'\\n', syn_ip_train[0]); \n",
    "print(len(syn_ip_test),'\\n', syn_ip_test[0]); \n",
    "print(len(syn_ip_valid), '\\n',syn_ip_valid[0]); "
   ]
  },
  {
   "cell_type": "code",
   "execution_count": 623,
   "metadata": {
    "collapsed": true
   },
   "outputs": [
    {
     "name": "stdout",
     "output_type": "stream",
     "text": [
      "14000 \n",
      " [ 1.]\n",
      "3000 \n",
      " [ 2.]\n",
      "3000 \n",
      " [ 1.]\n"
     ]
    }
   ],
   "source": [
    "syn_output_data = np.loadtxt('./output.csv', delimiter=',',dtype=None).reshape([-1, 1]);\n",
    "syn_op_train, syn_op_test, syn_op_valid = syn_output_data[:syn_trn_length, :] , syn_output_data[syn_trn_length:syn_tst_length, :] , syn_output_data[syn_tst_length:, :] \n",
    "print(len(syn_op_train),'\\n', syn_op_train[0]); \n",
    "print(len(syn_op_test),'\\n', syn_op_test[0]); \n",
    "print(len(syn_op_valid), '\\n',syn_op_valid[0]); \n",
    "# letor_input_data = np.loadtxt('./Querylevelnorm_X.csv', delimiter=',');\n",
    "# syn_trn_length = len(letor_input_data) *0.7;\n",
    "# syn_tst_length = syn_trn_length + (len(syn_input_data) * 0.15);\n",
    "# letor_output_data = np.loadtxt('./Querylevelnorm_t.csv', delimiter=',').reshape([-1, 1]);"
   ]
  },
  {
   "cell_type": "code",
   "execution_count": 652,
   "metadata": {
    "collapsed": true
   },
   "outputs": [],
   "source": [
    "### performing k-means clustering to spatiially divide inpute data and find centres matrix \n",
    "from sklearn.cluster import KMeans\n",
    "### Input - number_of_clusters - scalar int \n",
    "### Input - data_to_cluster - RXC 2d matrix : input data\n",
    "### Output - Kmeans object having centroid and lableled clusters information\n",
    "\n",
    "def computing_KMeans_clusters(number_of_clusters, data_to_cluster) : \n",
    "    return KMeans(n_clusters= number_of_clusters, random_state=0).fit(data_to_cluster)"
   ]
  },
  {
   "cell_type": "code",
   "execution_count": 625,
   "metadata": {
    "collapsed": true
   },
   "outputs": [],
   "source": [
    "### Finding Means ie center of each cluster -\n",
    "### Input - clustered_obj - object - output of kmeans : computing_centers_from_clusters\n",
    "### Output - array of centroid -  k_forK_means X C 2d matrix \n",
    "def get_data_centers(clustered_obj):\n",
    "    return clustered_obj.cluster_centers_ #np.array(np.mean(kmeans.cluster_centers_, axis=1)).reshape(-1,1)\n",
    "#inputset_cluster_index = np.array(kmeans.labels_).reshape(-1,1)"
   ]
  },
  {
   "cell_type": "code",
   "execution_count": 653,
   "metadata": {
    "collapsed": true
   },
   "outputs": [],
   "source": [
    "# Performing kmeans on training input \n",
    "kmeans_t = computing_KMeans_clusters(k_forK_means, syn_ip_train)"
   ]
  },
  {
   "cell_type": "code",
   "execution_count": 627,
   "metadata": {
    "collapsed": true
   },
   "outputs": [
    {
     "name": "stdout",
     "output_type": "stream",
     "text": [
      "(50, 10)\n",
      "[[ 0.65993739  0.74934836  0.77552781  0.70468768  0.66463849  0.39426939\n",
      "   0.39465431  0.25835205  0.74642937  0.75831904]\n",
      " [ 0.27408754  0.57446429  0.29399903  0.21639338  0.56863161  0.2592491\n",
      "   0.61307205  0.7456231   0.73055874  0.28194921]\n",
      " [ 0.72447508  0.3815169   0.23271299  0.71204424  0.2499566   0.39626346\n",
      "   0.24689798  0.32904544  0.24728342  0.40173385]\n",
      " [ 0.69356533  0.49406517  0.29576682  0.42114135  0.27502337  0.80377603\n",
      "   0.20237353  0.74352902  0.62012467  0.26712809]\n",
      " [ 0.64087376  0.45683847  0.73753512  0.47571887  0.69298569  0.24203094\n",
      "   0.73675426  0.74225225  0.77357811  0.69755608]\n",
      " [ 0.24564138  0.67236734  0.65407535  0.27810561  0.71521451  0.76497281\n",
      "   0.71378666  0.26112377  0.49901362  0.28603984]\n",
      " [ 0.74731977  0.73672134  0.77227412  0.21507402  0.46883536  0.64599197\n",
      "   0.2463797   0.64755516  0.30101268  0.58917122]\n",
      " [ 0.57194543  0.29963419  0.27931801  0.23434671  0.29434308  0.28313632\n",
      "   0.75819233  0.30918268  0.29911063  0.33407076]\n",
      " [ 0.33470111  0.22767851  0.61328373  0.55429976  0.72600717  0.24109994\n",
      "   0.24242891  0.6742718   0.74098996  0.61305435]\n",
      " [ 0.27954418  0.23177643  0.70984097  0.26656378  0.27143591  0.37948642\n",
      "   0.37703613  0.72471075  0.34211394  0.25094572]\n",
      " [ 0.32824408  0.75463844  0.38828078  0.6833656   0.36247313  0.75995719\n",
      "   0.2937178   0.29143084  0.27449869  0.75993403]\n",
      " [ 0.71556558  0.68554385  0.76246914  0.40130776  0.22814552  0.50844174\n",
      "   0.71267268  0.29162326  0.25106239  0.73713955]\n",
      " [ 0.26675757  0.23727584  0.66496438  0.71995465  0.40706044  0.69334265\n",
      "   0.77734992  0.32980188  0.59262842  0.68347592]\n",
      " [ 0.71012256  0.71125831  0.73067921  0.56714732  0.2592482   0.25090739\n",
      "   0.66441691  0.73062311  0.40431107  0.23519173]\n",
      " [ 0.56607507  0.34833262  0.22122636  0.61948158  0.70154207  0.22655949\n",
      "   0.71808527  0.2766569   0.64563865  0.73369614]\n",
      " [ 0.74899524  0.3469171   0.64853466  0.75116079  0.22442045  0.36048588\n",
      "   0.42141597  0.22642159  0.75038307  0.54125645]\n",
      " [ 0.67977214  0.74823113  0.74789801  0.77003867  0.79466951  0.59615833\n",
      "   0.71159678  0.37213615  0.31298104  0.38830458]\n",
      " [ 0.47840594  0.28414025  0.75267893  0.78395218  0.20686783  0.68231692\n",
      "   0.3258147   0.69417903  0.29720944  0.60046124]\n",
      " [ 0.65643981  0.74531833  0.47127643  0.77052826  0.69612359  0.25370915\n",
      "   0.27642276  0.75632523  0.32009723  0.50597092]\n",
      " [ 0.63514577  0.33389665  0.26803891  0.7271744   0.70561986  0.75175282\n",
      "   0.25877574  0.67169312  0.67531438  0.73944117]\n",
      " [ 0.21380096  0.55202912  0.62051177  0.23095528  0.22793808  0.44944557\n",
      "   0.70358963  0.44577603  0.78318792  0.72025995]\n",
      " [ 0.76161319  0.21445508  0.73871917  0.54017874  0.77480582  0.6174276\n",
      "   0.37341152  0.72665745  0.26102066  0.6231806 ]\n",
      " [ 0.30437081  0.22957362  0.29582475  0.29323388  0.51899988  0.72707222\n",
      "   0.63904242  0.72813751  0.2836524   0.71874417]\n",
      " [ 0.23891088  0.69980389  0.74764019  0.37958127  0.64117664  0.30020315\n",
      "   0.6688848   0.67075857  0.22405647  0.69165584]\n",
      " [ 0.26540572  0.57794668  0.76215227  0.76169883  0.49279355  0.73171112\n",
      "   0.57577939  0.71215308  0.75161624  0.24216061]\n",
      " [ 0.76580161  0.62735154  0.34593395  0.27706595  0.27492561  0.21666235\n",
      "   0.28418149  0.71890911  0.64778679  0.60619975]\n",
      " [ 0.25704549  0.28075473  0.27318578  0.36682928  0.3330263   0.63544666\n",
      "   0.35817026  0.26450652  0.74398223  0.22798169]\n",
      " [ 0.26849693  0.76483465  0.2708065   0.26577816  0.61901431  0.32294063\n",
      "   0.31514502  0.27791704  0.58647069  0.75244669]\n",
      " [ 0.75893578  0.62462651  0.26017475  0.31384297  0.74234536  0.60983591\n",
      "   0.65041013  0.27364006  0.26716755  0.72702298]\n",
      " [ 0.77272949  0.74023238  0.2970972   0.2968016   0.70958395  0.57626027\n",
      "   0.75606531  0.72123615  0.465719    0.28891415]\n",
      " [ 0.36085102  0.74002754  0.28187535  0.66919052  0.65681049  0.742067\n",
      "   0.74739962  0.73856323  0.56920554  0.74879832]\n",
      " [ 0.20364455  0.26827751  0.4079441   0.73691606  0.71961227  0.45409284\n",
      "   0.35512067  0.23893106  0.27404635  0.61945982]\n",
      " [ 0.27220169  0.70313041  0.7213775   0.33628241  0.63981829  0.73163041\n",
      "   0.26379252  0.77608858  0.72292771  0.63160604]\n",
      " [ 0.76930869  0.46344555  0.79301023  0.36626703  0.38022712  0.77668031\n",
      "   0.70853865  0.65573357  0.74063068  0.34084388]\n",
      " [ 0.47912761  0.29567986  0.73417572  0.2948441   0.74786814  0.23902713\n",
      "   0.74988694  0.2749216   0.33433134  0.33702016]\n",
      " [ 0.72381616  0.22473049  0.30971595  0.69802429  0.42774938  0.43004703\n",
      "   0.72346663  0.67078812  0.75494058  0.22372151]\n",
      " [ 0.31164807  0.25086667  0.35614055  0.74491003  0.73126434  0.44453609\n",
      "   0.64176598  0.7033385   0.32768769  0.22168774]\n",
      " [ 0.4882254   0.21641346  0.70660132  0.191578    0.73714959  0.78752577\n",
      "   0.36471862  0.3341312   0.53323904  0.58340007]\n",
      " [ 0.71107791  0.58586402  0.34347109  0.70007886  0.2805144   0.77431772\n",
      "   0.73854055  0.28558376  0.36321367  0.27825953]\n",
      " [ 0.63782114  0.3258698   0.7420292   0.76024118  0.63953875  0.63297738\n",
      "   0.24402452  0.25761666  0.37666868  0.21478389]\n",
      " [ 0.27729485  0.75631     0.30569205  0.39912529  0.23219746  0.69203979\n",
      "   0.50549002  0.74428631  0.27009385  0.33970973]\n",
      " [ 0.41046283  0.72723875  0.27852917  0.72668699  0.74435598  0.7308682\n",
      "   0.32839306  0.28514605  0.71603271  0.29018095]\n",
      " [ 0.40833596  0.28665619  0.49800335  0.2409651   0.32614915  0.26185102\n",
      "   0.28271516  0.34631951  0.25420617  0.76671416]\n",
      " [ 0.2935875   0.5809135   0.32940284  0.77232836  0.24318301  0.34442832\n",
      "   0.28559389  0.72520469  0.73783277  0.60486062]\n",
      " [ 0.26805925  0.73057373  0.40282639  0.74940684  0.36379203  0.22605982\n",
      "   0.75592241  0.29792138  0.54443541  0.39224946]\n",
      " [ 0.35227885  0.73266654  0.74603592  0.4057897   0.31073963  0.42531072\n",
      "   0.1998027   0.25559041  0.59933899  0.2968516 ]\n",
      " [ 0.4254107   0.54035229  0.27655225  0.24767309  0.76615469  0.45999607\n",
      "   0.24103855  0.48415988  0.19768766  0.23568937]\n",
      " [ 0.77741139  0.38922159  0.41536965  0.29647216  0.74135557  0.27535787\n",
      "   0.30298749  0.30409105  0.71297901  0.30327608]\n",
      " [ 0.68009888  0.36097427  0.36881259  0.70984707  0.30072237  0.32870403\n",
      "   0.77097668  0.73757255  0.28306859  0.76556524]\n",
      " [ 0.76331521  0.47559923  0.29298358  0.28243938  0.28200421  0.73686631\n",
      "   0.6232289   0.34051642  0.75407662  0.72181685]]\n"
     ]
    }
   ],
   "source": [
    "# Center value arrays for training input \n",
    "train_input_cntr = get_data_centers(kmeans_t)\n",
    "print(np.shape(input_cntr))\n",
    "print(input_cntr)"
   ]
  },
  {
   "cell_type": "code",
   "execution_count": 651,
   "metadata": {
    "collapsed": true
   },
   "outputs": [],
   "source": [
    "### Finding spread of entire data set \n",
    "### Input - data - RXC 2d matrix : input data to find covariance over\n",
    "### Output - RXC 2d matrix : cov matrix\n",
    "\n",
    "def get_spreads(clusters):\n",
    "    return list(np.diag(np.diag(np.cov(clusters[i].T))) for i in range(k_forK_means))   #np.cov(data.T)"
   ]
  },
  {
   "cell_type": "code",
   "execution_count": 658,
   "metadata": {
    "collapsed": true
   },
   "outputs": [],
   "source": [
    "### Creating a dictionary with key - cluster label and value - cluster inpputs set\n",
    "def get_cluster_dictionary(data_set, cluster_obj): \n",
    "    return {i: data_set[np.where(cluster_obj.labels_ == i)] for i in range(k_forK_means)}"
   ]
  },
  {
   "cell_type": "code",
   "execution_count": 669,
   "metadata": {
    "collapsed": true
   },
   "outputs": [],
   "source": [
    "syn_ip_train_clusters_dict = get_cluster_dictionary(syn_ip_train, kmeans_t)"
   ]
  },
  {
   "cell_type": "code",
   "execution_count": 670,
   "metadata": {
    "collapsed": true
   },
   "outputs": [
    {
     "data": {
      "text/plain": [
       "array([[ 0.03598973,  0.        ,  0.        ,  0.        ,  0.        ,\n",
       "         0.        ,  0.        ,  0.        ,  0.        ,  0.        ],\n",
       "       [ 0.        ,  0.03198941,  0.        ,  0.        ,  0.        ,\n",
       "         0.        ,  0.        ,  0.        ,  0.        ,  0.        ],\n",
       "       [ 0.        ,  0.        ,  0.04224071,  0.        ,  0.        ,\n",
       "         0.        ,  0.        ,  0.        ,  0.        ,  0.        ],\n",
       "       [ 0.        ,  0.        ,  0.        ,  0.03025419,  0.        ,\n",
       "         0.        ,  0.        ,  0.        ,  0.        ,  0.        ],\n",
       "       [ 0.        ,  0.        ,  0.        ,  0.        ,  0.03393484,\n",
       "         0.        ,  0.        ,  0.        ,  0.        ,  0.        ],\n",
       "       [ 0.        ,  0.        ,  0.        ,  0.        ,  0.        ,\n",
       "         0.03694665,  0.        ,  0.        ,  0.        ,  0.        ],\n",
       "       [ 0.        ,  0.        ,  0.        ,  0.        ,  0.        ,\n",
       "         0.        ,  0.02511643,  0.        ,  0.        ,  0.        ],\n",
       "       [ 0.        ,  0.        ,  0.        ,  0.        ,  0.        ,\n",
       "         0.        ,  0.        ,  0.03401067,  0.        ,  0.        ],\n",
       "       [ 0.        ,  0.        ,  0.        ,  0.        ,  0.        ,\n",
       "         0.        ,  0.        ,  0.        ,  0.05623273,  0.        ],\n",
       "       [ 0.        ,  0.        ,  0.        ,  0.        ,  0.        ,\n",
       "         0.        ,  0.        ,  0.        ,  0.        ,  0.0284487 ]])"
      ]
     },
     "execution_count": 670,
     "metadata": {},
     "output_type": "execute_result"
    }
   ],
   "source": [
    "train_input_cov = get_spreads(syn_ip_train_clusters_dict)\n",
    "train_input_cov[0]"
   ]
  },
  {
   "cell_type": "code",
   "execution_count": 660,
   "metadata": {
    "collapsed": true
   },
   "outputs": [],
   "source": [
    "### Using Junchu's function to find out design matrix - \n",
    "### Input - X - Data set: RXC \n",
    "### Input - centers - Stacked Means:  k_forK_ X C \n",
    "### Input - spread - covariance matrix for entire X:  R X C \n",
    "\n",
    "def compute_design_matrix(X, centers, spreads):\n",
    "# use broadcast\n",
    "    basis_func_outputs = np.exp(np.sum(np.matmul(X - centers, spreads) * (X - centers),axis=2) / (-2)).T\n",
    "# insert ones to the 1st col\n",
    "    return np.insert(basis_func_outputs, 0, 1, axis=1)\n",
    "    "
   ]
  },
  {
   "cell_type": "code",
   "execution_count": null,
   "metadata": {
    "collapsed": true
   },
   "outputs": [],
   "source": [
    "# #### Finding spread for individuval clusters -- ERROR APPROACH \n",
    "# input_cov = list(np.cov(syn_ip_train_clusters[i].T) for i in range(k_forK_means))\n",
    "# # input_cov = np.stack(input_cov)\n",
    "# # print(input_cov[0])\n",
    "# for i in range (50):\n",
    "#     print(np.shape(input_cov[i]))"
   ]
  },
  {
   "cell_type": "code",
   "execution_count": null,
   "metadata": {
    "collapsed": true
   },
   "outputs": [],
   "source": [
    "#### Finding difference of mean and input set for individuval clusters -- ERROR APPROACH \n",
    "# for i in range (k_forK_means):\n",
    "#     syn_ip_train_clusters[i] -= input_cntr[i] \n",
    "# syn_ip_train_clusters"
   ]
  },
  {
   "cell_type": "code",
   "execution_count": null,
   "metadata": {
    "collapsed": true
   },
   "outputs": [],
   "source": [
    "#### Finding design matrix spread for individuval clusters -- ERROR APPROACH \n",
    "# for i in range(k_forK_means):\n",
    "#     PHI = compute_design_matrix(syn_ip_train_clusters[i], input_cntr[i], input_cov[i] )\n",
    "# np.exp(np.sum(np.matmul( input_cov[0], syn_ip_train_clusters[0]) * syn_ip_train_clusters[0], axis = 1)/ (-2)).T\n",
    "# len(PHI)"
   ]
  },
  {
   "cell_type": "code",
   "execution_count": null,
   "metadata": {
    "collapsed": true
   },
   "outputs": [],
   "source": [
    "#### For test purposes of mtrix dim \n",
    "#### Finding design matrix by taking complete input set, 3d stacked centres, covariance matrix over input set  -- Correct APPROACH \n",
    "# covfefe = np.array([[9,9,9,9],[9,9,9,9],[9,9,9,9]])\n",
    "# vas = np.array([[1,1,1,1],[2,2,2,2],[3,3,3,3]])\n",
    "# sav = np.array([[1,1,1,1], [3,3,3,3]])\n",
    "# differinici = (vas).T - ((sav).T)[None,:]\n",
    "# print(\"X: \\n\", vas, \"\\ncentre\\n\", sav , \"\\ncov\\n\",covfefe)\n",
    "# print(\"\\ndifferinici:\\n \", differinici.shape )\n",
    "# intoooi = np.matmul(differinici[0] , covfefe)\n",
    "# print(\"\\ninto cov:\\n\", intoooi ) \n",
    "# ums = np.sum(intoooi * differinici, axis = 2)\n",
    "# print(\"\\n shape of sum\\n\",ums.shape,\"nums around axis 2 \" , ums  )\n",
    "# further = np.exp(np.sum(intoooi * differinici, axis = 2)/ (-2)).T\n",
    "# print(\"\\ninto cov ka square ka sum:\\n\", further ) "
   ]
  },
  {
   "cell_type": "code",
   "execution_count": 661,
   "metadata": {},
   "outputs": [
    {
     "name": "stdout",
     "output_type": "stream",
     "text": [
      "(14000, 101)\n",
      "[[ 1.          0.97324474  0.9714262  ...,  0.96691924  0.9877356\n",
      "   0.96804057]\n",
      " [ 1.          0.97812716  0.97963847 ...,  0.96872125  0.98061084\n",
      "   0.98090018]\n",
      " [ 1.          0.98204409  0.98153193 ...,  0.98514009  0.98092169\n",
      "   0.98223232]\n",
      " ..., \n",
      " [ 1.          0.98011162  0.97857072 ...,  0.97461807  0.97256815\n",
      "   0.97177086]\n",
      " [ 1.          0.9835625   0.96018471 ...,  0.98145204  0.97172178\n",
      "   0.96714928]\n",
      " [ 1.          0.98698557  0.98378634 ...,  0.98331942  0.99023444\n",
      "   0.98073889]]\n"
     ]
    }
   ],
   "source": [
    "### Finding design matrix for training input set\n",
    "phi = compute_design_matrix(syn_ip_train, train_input_cntr[:, None] , train_input_cov)\n",
    "\n",
    "\n",
    "print(phi.shape)\n",
    "print(phi)"
   ]
  },
  {
   "cell_type": "code",
   "execution_count": 662,
   "metadata": {
    "collapsed": true
   },
   "outputs": [],
   "source": [
    "### Junchu's Function to find closed form solution \n",
    "### Input - L2_Lambda - lambda - scalar \n",
    "### Input - design_matrix - phi calculated before - R X (k_forK_means +1 ) 2d matrix\n",
    "### Input - output_data - RX1 2d matrix - Target values from data set given\n",
    "def closed_form_sol(L2_lambda, design_matrix, output_data):\n",
    "\n",
    "    return np.linalg.solve( L2_lambda * np.identity(design_matrix.shape[1]) + np.matmul(design_matrix.T, design_matrix), np.matmul(design_matrix.T, output_data)).flatten()"
   ]
  },
  {
   "cell_type": "code",
   "execution_count": 663,
   "metadata": {
    "collapsed": true
   },
   "outputs": [],
   "source": [
    "### Calculating Wml - weight for maximum likelihood from the closed form sol\n",
    "l_forLambda = 0.1\n",
    "\n",
    "wml = np.array(closed_form_sol (l_forLambda, phi, syn_op_train)).reshape(1,-1)"
   ]
  },
  {
   "cell_type": "code",
   "execution_count": 664,
   "metadata": {},
   "outputs": [
    {
     "data": {
      "text/plain": [
       "(1, 101)"
      ]
     },
     "execution_count": 664,
     "metadata": {},
     "output_type": "execute_result"
    }
   ],
   "source": [
    "wml.shape\n",
    "# phi\n"
   ]
  },
  {
   "cell_type": "code",
   "execution_count": 665,
   "metadata": {
    "collapsed": true
   },
   "outputs": [],
   "source": [
    "def get_predicted_value(design_matrix, wml):\n",
    "    return np.matmul(design_matrix, wml.T)"
   ]
  },
  {
   "cell_type": "code",
   "execution_count": 666,
   "metadata": {},
   "outputs": [
    {
     "name": "stdout",
     "output_type": "stream",
     "text": [
      "[[ 1.11748409]\n",
      " [ 1.47253707]\n",
      " [ 0.1048653 ]\n",
      " ..., \n",
      " [ 0.57959183]\n",
      " [ 0.06940338]\n",
      " [ 1.06060077]] [[ 1.]\n",
      " [ 1.]\n",
      " [ 0.]\n",
      " ..., \n",
      " [ 1.]\n",
      " [ 0.]\n",
      " [ 1.]]\n"
     ]
    },
    {
     "data": {
      "text/plain": [
       "0.36843388732131443"
      ]
     },
     "execution_count": 666,
     "metadata": {},
     "output_type": "execute_result"
    }
   ],
   "source": [
    "prediction_set = get_predicted_value (phi, wml)\n",
    "print(prediction_set , syn_op_train)\n",
    "\n",
    "from sklearn.metrics import mean_squared_error\n",
    "mean_squared_error(syn_op_train, prediction_set) "
   ]
  },
  {
   "cell_type": "code",
   "execution_count": 671,
   "metadata": {},
   "outputs": [],
   "source": [
    "kmeans_v = computing_centers_from_clusters(k_forK_means, syn_ip_valid)\n",
    "kmeans_v_cluater_dict = get_cluster_dictionary(syn_ip_valid,kmeans_v)\n",
    "valid_input_cov = get_spreads(kmeans_v_cluater_dict)\n",
    "valid_input_cntr = get_data_centers(kmeans_v)\n",
    "valid_phi = compute_design_matrix(syn_ip_valid, valid_input_cntr[:, None] , valid_input_cov)\n"
   ]
  },
  {
   "cell_type": "code",
   "execution_count": 672,
   "metadata": {},
   "outputs": [
    {
     "data": {
      "text/plain": [
       "(3000, 1)"
      ]
     },
     "execution_count": 672,
     "metadata": {},
     "output_type": "execute_result"
    }
   ],
   "source": [
    "prediction_set_v = get_predicted_value (valid_phi, wml)\n",
    "mean_squared_error(syn_op_valid, prediction_set_v) \n",
    "# prediction_set_v.shape"
   ]
  },
  {
   "cell_type": "code",
   "execution_count": 356,
   "metadata": {},
   "outputs": [
    {
     "name": "stdout",
     "output_type": "stream",
     "text": [
      "[-24.38419665  -3.8880978    0.85005913   3.17393851   1.76093085\n",
      "  -3.34504887   1.27292993   0.17574119   3.42025714   0.14399536\n",
      "   3.21200509   1.84381049   0.37891878   1.00953845   0.05948361\n",
      "   1.2845383   -0.03721799  -2.8758112    1.28283562  -1.01885672\n",
      "  -1.45781804   0.45770435  -0.84870104   1.71149676   0.47691609\n",
      "  -2.04239881   1.34413018   2.94098903   1.91836378  -0.11954844\n",
      "  -1.57467446  -2.4357242    2.79632586  -1.75420299  -2.70232519\n",
      "   2.65757873  -0.50447178   1.35444518   1.26866988   0.8129812\n",
      "   1.07777506   2.93584351  -0.50326386   3.59671602   0.72618901\n",
      "   1.06248698   1.67400057   2.77301026   1.16347072   0.54531214\n",
      "  -1.34905671]\n"
     ]
    }
   ],
   "source": [
    "print (closed_form_sol (l_forLambda, phi, syn_op_train))"
   ]
  },
  {
   "cell_type": "code",
   "execution_count": 518,
   "metadata": {
    "collapsed": true
   },
   "outputs": [],
   "source": [
    "def SGD_sol(learning_rate,\n",
    "minibatch_size,\n",
    "num_epochs,\n",
    "L2_lambda,\n",
    "design_matrix,\n",
    "output_data):\n",
    "    N, _ = design_matrix.shape\n",
    "# You can try different mini-batch size size\n",
    "# Using minibatch_size = N is equivalent to standard gradient descent\n",
    "# Using minibatch_size = 1 is equivalent to stochastic gradient descent\n",
    "# In this case, minibatch_size = N is better\n",
    "    weights = np.zeros([1, 4])\n",
    "    weights_transpose = weights.T\n",
    "# The more epochs the higher training accuracy. When set to 1000000,\n",
    "# weights will be very close to closed_form_weights. But this is unnecessary\n",
    "    \n",
    "    for epoch in range(num_epochs):\n",
    "        for i in range(int(N / minibatch_size)):\n",
    "            lower_bound = i * minibatch_size\n",
    "            upper_bound = min((i+1)*minibatch_size, N)\n",
    "            Phi = design_matrix[lower_bound : upper_bound, :]\n",
    "            t = output_data[lower_bound : upper_bound, :]\n",
    "#             print(\"epoch:\",epoch,\"\\ni:\",i,\"\\nDesign Matrix Shape - \",design_matrix.shape,\"\\nWeights Shape Transpose - \", weights.T.shape,\"\\nt shape - \", t.shape) \n",
    "            E_D = np.matmul(\n",
    "             (np.matmul(Phi, weights)-t).T,\n",
    "            Phi\n",
    "            )\n",
    "#             print(\"\\nE_D shape - \",E_D.shape, weights.T.shape  )\n",
    "            E = (E_D + L2_lambda * weights_transpose) / minibatch_size\n",
    "#             print(\"\\n Shape of E - \",E.shape)\n",
    "            weights_transpose = weights_transpose - learning_rate * E\n",
    "            weights = weights_transpose.T \n",
    "#             print(\"Weights Shape- \", weights.shape ,\"\\nWeights - \", weights )\n",
    "    print (np.linalg.norm(E))\n",
    "    return weights.flatten()"
   ]
  },
  {
   "cell_type": "code",
   "execution_count": 605,
   "metadata": {},
   "outputs": [
    {
     "name": "stdout",
     "output_type": "stream",
     "text": [
      "4.59334951028e-17\n"
     ]
    }
   ],
   "source": [
    "phis = np.array(phi[:,1]).reshape(-1,1)\n",
    "learning_rate =1\n",
    "minibatch_size = len(syn_op_train)\n",
    "num_epochs = 10000\n",
    "sgd_weights = SGD_sol(learning_rate, minibatch_size, num_epochs, 0.1, phis, syn_op_train)"
   ]
  },
  {
   "cell_type": "code",
   "execution_count": 610,
   "metadata": {},
   "outputs": [
    {
     "data": {
      "text/plain": [
       "0.62120766773337588"
      ]
     },
     "execution_count": 610,
     "metadata": {},
     "output_type": "execute_result"
    }
   ],
   "source": [
    "sgd_weights = np.array(sgd_weights).reshape(-1,1)\n",
    "\n",
    "# np.matmul(phis, sgd_weights.T)\n",
    "sgd_predicted_val = get_predicted_value(phis, sgd_weights[1] )\n",
    "sgd_predicted_val.shape\n",
    "mean_squared_error(syn_op_train, sgd_predicted_val) "
   ]
  },
  {
   "cell_type": "code",
   "execution_count": 430,
   "metadata": {
    "collapsed": true
   },
   "outputs": [],
   "source": [
    "# N, _ = phi.shape\n",
    "# learning_rate =1\n",
    "# minibatch_size = 50\n",
    "# num_epochs = 100\n",
    "# i =0\n",
    "# lower_bound = i * minibatch_size\n",
    "# upper_bound = min((i+1)*minibatch_size, N)\n",
    "# Phi = phi[lower_bound : upper_bound, :]\n",
    "# t = syn_op_train[lower_bound : upper_bound, :]"
   ]
  },
  {
   "cell_type": "code",
   "execution_count": 427,
   "metadata": {
    "collapsed": true
   },
   "outputs": [],
   "source": [
    "# E_D = np.matmul((np.matmul(Phi, weights.T)-t).T,Phi)"
   ]
  },
  {
   "cell_type": "code",
   "execution_count": 584,
   "metadata": {},
   "outputs": [],
   "source": [
    "# print(Phi.shape, weights.T.shape, t.shape) "
   ]
  },
  {
   "cell_type": "code",
   "execution_count": 585,
   "metadata": {
    "collapsed": true
   },
   "outputs": [],
   "source": [
    "# ert = weights\n",
    "# phi_column = np.array(phi[0:50,1]).reshape(-1,1)\n",
    "# pox = np.matmul(phi_column, ert)- t"
   ]
  },
  {
   "cell_type": "code",
   "execution_count": 586,
   "metadata": {},
   "outputs": [],
   "source": [
    "# np.matmul(pox.T,phi_column)"
   ]
  },
  {
   "cell_type": "code",
   "execution_count": 588,
   "metadata": {},
   "outputs": [],
   "source": [
    "# phis = np.array(phi[:,1]).reshape(-1,1)\n",
    "# phis.shape"
   ]
  },
  {
   "cell_type": "code",
   "execution_count": 589,
   "metadata": {
    "collapsed": true
   },
   "outputs": [],
   "source": [
    "# E_D = [[-47.21538662],\n",
    "#  [-47.21538662],\n",
    "#  [-47.21538662],\n",
    "#  [-47.21538662]]\n",
    "# E = (E_D + 0.2 * weights) / minibatch_size"
   ]
  },
  {
   "cell_type": "code",
   "execution_count": 598,
   "metadata": {},
   "outputs": [
    {
     "data": {
      "text/plain": [
       "array([[ 0.99443456],\n",
       "       [ 0.99443456],\n",
       "       [ 0.99443456],\n",
       "       [ 0.99443456]])"
      ]
     },
     "execution_count": 598,
     "metadata": {},
     "output_type": "execute_result"
    }
   ],
   "source": [
    "sgd_weights"
   ]
  },
  {
   "cell_type": "code",
   "execution_count": 599,
   "metadata": {},
   "outputs": [
    {
     "data": {
      "text/plain": [
       "array([ 0.99443456])"
      ]
     },
     "execution_count": 599,
     "metadata": {},
     "output_type": "execute_result"
    }
   ],
   "source": [
    "sgd_weights[1]"
   ]
  },
  {
   "cell_type": "code",
   "execution_count": 600,
   "metadata": {},
   "outputs": [
    {
     "data": {
      "text/plain": [
       "array([[ 0.97821605],\n",
       "       [ 0.98216257],\n",
       "       [ 0.98330886],\n",
       "       ..., \n",
       "       [ 0.98408524],\n",
       "       [ 0.98243509],\n",
       "       [ 0.98966672]])"
      ]
     },
     "execution_count": 600,
     "metadata": {},
     "output_type": "execute_result"
    }
   ],
   "source": [
    "phis"
   ]
  },
  {
   "cell_type": "code",
   "execution_count": 609,
   "metadata": {},
   "outputs": [
    {
     "data": {
      "text/plain": [
       "array([ 0.96395511,  0.96784409,  0.96897367, ...,  0.96973873,\n",
       "        0.96811264,  0.97523885])"
      ]
     },
     "execution_count": 609,
     "metadata": {},
     "output_type": "execute_result"
    }
   ],
   "source": [
    "sgd_predicted_val"
   ]
  },
  {
   "cell_type": "code",
   "execution_count": 604,
   "metadata": {},
   "outputs": [
    {
     "data": {
      "text/plain": [
       "14000"
      ]
     },
     "execution_count": 604,
     "metadata": {},
     "output_type": "execute_result"
    }
   ],
   "source": [
    "len(syn_op_train)"
   ]
  },
  {
   "cell_type": "code",
   "execution_count": 611,
   "metadata": {
    "collapsed": true
   },
   "outputs": [],
   "source": [
    "var = [[1,1,1,1,1,1],[1,1,1,1,1,1],[1,1,1,1,1,1],[1,1,1,1,1,1],[1,1,1,1,1,1],[1,1,1,1,1,1]]"
   ]
  },
  {
   "cell_type": "code",
   "execution_count": 620,
   "metadata": {},
   "outputs": [
    {
     "data": {
      "text/plain": [
       "array([[1, 0, 0, 0, 0, 0],\n",
       "       [0, 1, 0, 0, 0, 0],\n",
       "       [0, 0, 1, 0, 0, 0],\n",
       "       [0, 0, 0, 1, 0, 0],\n",
       "       [0, 0, 0, 0, 1, 0],\n",
       "       [0, 0, 0, 0, 0, 1]])"
      ]
     },
     "execution_count": 620,
     "metadata": {},
     "output_type": "execute_result"
    }
   ],
   "source": [
    "np.diag(np.diag(var))"
   ]
  },
  {
   "cell_type": "code",
   "execution_count": null,
   "metadata": {
    "collapsed": true
   },
   "outputs": [],
   "source": []
  }
 ],
 "metadata": {
  "kernelspec": {
   "display_name": "Python 3",
   "language": "python",
   "name": "python3"
  },
  "language_info": {
   "codemirror_mode": {
    "name": "ipython",
    "version": 3
   },
   "file_extension": ".py",
   "mimetype": "text/x-python",
   "name": "python",
   "nbconvert_exporter": "python",
   "pygments_lexer": "ipython3",
   "version": "3.6.1"
  }
 },
 "nbformat": 4,
 "nbformat_minor": 2
}
